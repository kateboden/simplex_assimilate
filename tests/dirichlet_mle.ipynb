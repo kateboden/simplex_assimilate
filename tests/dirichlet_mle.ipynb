{
 "cells": [
  {
   "cell_type": "code",
   "execution_count": 1,
   "metadata": {
    "collapsed": true
   },
   "outputs": [],
   "source": [
    "from dirichlet_assimilate import shared_classes, examples, visualize, dirichlet_mle\n",
    "import importlib\n",
    "def reload():\n",
    "    for mod in (shared_classes, examples, visualize, dirichlet_mle):\n",
    "        importlib.reload(mod)"
   ]
  },
  {
   "cell_type": "code",
   "execution_count": 2,
   "outputs": [
    {
     "data": {
      "text/plain": "ClassDirichlet(alpha=array([ 4.92760597,  4.41651935,  5.88869247, 22.56280292, 25.51529277,\n        5.53044628,  1.70259214]), sample_class=SampleClass([ True,  True,  True,  True,  True,  True,  True]))"
     },
     "execution_count": 2,
     "metadata": {},
     "output_type": "execute_result"
    }
   ],
   "source": [
    "reload()\n",
    "dirichlet_mle.fit_dirichlet(examples.class_ensemble)"
   ],
   "metadata": {
    "collapsed": false
   }
  },
  {
   "cell_type": "code",
   "execution_count": 3,
   "outputs": [
    {
     "data": {
      "text/plain": "ClassEnsemble(samples=[Sample([0.05 , 0.12 , 0.08 , 0.3  , 0.35 , 0.045, 0.055]), Sample([0.06 , 0.09 , 0.08 , 0.32 , 0.34 , 0.065, 0.045]), Sample([0.1  , 0.02 , 0.08 , 0.3  , 0.35 , 0.145, 0.005])])"
     },
     "execution_count": 3,
     "metadata": {},
     "output_type": "execute_result"
    }
   ],
   "source": [
    "examples.ensemble.class_ensembles[2]"
   ],
   "metadata": {
    "collapsed": false
   }
  },
  {
   "cell_type": "code",
   "execution_count": 4,
   "outputs": [
    {
     "data": {
      "text/plain": "ClassEnsemble(samples=[Sample([0.05 , 0.12 , 0.08 , 0.3  , 0.35 , 0.045, 0.055]), Sample([0.06 , 0.09 , 0.08 , 0.32 , 0.34 , 0.065, 0.045]), Sample([0.1  , 0.02 , 0.08 , 0.3  , 0.35 , 0.145, 0.005])])"
     },
     "execution_count": 4,
     "metadata": {},
     "output_type": "execute_result"
    }
   ],
   "source": [
    "examples.class_ensemble"
   ],
   "metadata": {
    "collapsed": false
   }
  },
  {
   "cell_type": "code",
   "execution_count": 5,
   "outputs": [
    {
     "data": {
      "text/plain": "array([[0.05 , 0.12 , 0.08 , 0.3  , 0.35 , 0.045, 0.055],\n       [0.06 , 0.09 , 0.08 , 0.32 , 0.34 , 0.065, 0.045],\n       [0.1  , 0.02 , 0.08 , 0.3  , 0.35 , 0.145, 0.005]])"
     },
     "execution_count": 5,
     "metadata": {},
     "output_type": "execute_result"
    }
   ],
   "source": [
    "import numpy as np\n",
    "np.array(examples.class_ensemble.samples)"
   ],
   "metadata": {
    "collapsed": false
   }
  },
  {
   "cell_type": "code",
   "execution_count": 6,
   "outputs": [
    {
     "data": {
      "text/plain": "(5, 7)"
     },
     "execution_count": 6,
     "metadata": {},
     "output_type": "execute_result"
    }
   ],
   "source": [
    "np.array(examples.ensemble.samples).shape"
   ],
   "metadata": {
    "collapsed": false
   }
  },
  {
   "cell_type": "code",
   "execution_count": null,
   "outputs": [],
   "source": [],
   "metadata": {
    "collapsed": false
   }
  }
 ],
 "metadata": {
  "kernelspec": {
   "display_name": "Python 3",
   "language": "python",
   "name": "python3"
  },
  "language_info": {
   "codemirror_mode": {
    "name": "ipython",
    "version": 2
   },
   "file_extension": ".py",
   "mimetype": "text/x-python",
   "name": "python",
   "nbconvert_exporter": "python",
   "pygments_lexer": "ipython2",
   "version": "2.7.6"
  }
 },
 "nbformat": 4,
 "nbformat_minor": 0
}
